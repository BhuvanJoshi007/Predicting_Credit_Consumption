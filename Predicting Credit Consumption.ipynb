{
 "cells": [
  {
   "cell_type": "code",
   "execution_count": 1,
   "metadata": {},
   "outputs": [],
   "source": [
    "import pandas as pd\n",
    "import numpy as np\n",
    "%matplotlib inline\n",
    "import matplotlib.pyplot as plt\n",
    "import seaborn as sns"
   ]
  },
  {
   "cell_type": "code",
   "execution_count": 5,
   "metadata": {},
   "outputs": [],
   "source": [
    "import pip"
   ]
  },
  {
   "cell_type": "code",
   "execution_count": 6,
   "metadata": {},
   "outputs": [],
   "source": [
    "Customer_Demo = pd.read_excel('CustomerDemographics.xlsx')\n",
    "Customer_Behavior_Data =  pd.read_excel('CustomerBehaviorData.xlsx')\n",
    "Credit_Consumption_Data = pd.read_excel('CreditConsumptionData.xlsx')"
   ]
  },
  {
   "cell_type": "code",
   "execution_count": 7,
   "metadata": {},
   "outputs": [
    {
     "name": "stdout",
     "output_type": "stream",
     "text": [
      "DataFrame info:\n",
      "<class 'pandas.core.frame.DataFrame'>\n",
      "RangeIndex: 20000 entries, 0 to 19999\n",
      "Data columns (total 10 columns):\n",
      " #   Column                        Non-Null Count  Dtype  \n",
      "---  ------                        --------------  -----  \n",
      " 0   ID                            20000 non-null  int64  \n",
      " 1   account_type                  19999 non-null  object \n",
      " 2   gender                        19999 non-null  object \n",
      " 3   age                           20000 non-null  int64  \n",
      " 4   Income                        19999 non-null  object \n",
      " 5   Emp_Tenure_Years              20000 non-null  float64\n",
      " 6   Tenure_with_Bank              20000 non-null  int64  \n",
      " 7   region_code                   19999 non-null  float64\n",
      " 8   NetBanking_Flag               20000 non-null  int64  \n",
      " 9   Avg_days_between_transaction  19997 non-null  float64\n",
      "dtypes: float64(3), int64(4), object(3)\n",
      "memory usage: 1.5+ MB\n",
      "None\n"
     ]
    }
   ],
   "source": [
    "# Get metadata using info() method\n",
    "print(\"DataFrame info:\")\n",
    "print(Customer_Demo.info())"
   ]
  },
  {
   "cell_type": "code",
   "execution_count": 8,
   "metadata": {},
   "outputs": [
    {
     "name": "stdout",
     "output_type": "stream",
     "text": [
      "DataFrame summary statistics:\n",
      "                 ID           age  Emp_Tenure_Years  Tenure_with_Bank  \\\n",
      "count  20000.000000  20000.000000      20000.000000      20000.000000   \n",
      "mean    9999.500000     47.672300         15.217250          5.496050   \n",
      "std     5773.647028     30.359771         20.481455          2.870452   \n",
      "min        0.000000     25.000000          0.500000          1.000000   \n",
      "25%     4999.750000     33.000000          5.100000          3.000000   \n",
      "50%     9999.500000     40.000000          9.900000          6.000000   \n",
      "75%    14999.250000     53.000000         18.000000          8.000000   \n",
      "max    19999.000000    223.000000        203.000000         10.000000   \n",
      "\n",
      "        region_code  NetBanking_Flag  Avg_days_between_transaction  \n",
      "count  19999.000000     20000.000000                  19997.000000  \n",
      "mean     598.959348         0.718000                     11.044757  \n",
      "std      220.105230         0.449985                      5.480552  \n",
      "min      123.000000         0.000000                      2.000000  \n",
      "25%      424.000000         0.000000                      6.000000  \n",
      "50%      623.000000         1.000000                     11.000000  \n",
      "75%      799.000000         1.000000                     16.000000  \n",
      "max      974.000000         1.000000                     20.000000  \n"
     ]
    }
   ],
   "source": [
    "# Get summary statistics using describe() method\n",
    "print(\"DataFrame summary statistics:\")\n",
    "print(Customer_Demo.describe())"
   ]
  },
  {
   "cell_type": "code",
   "execution_count": 9,
   "metadata": {},
   "outputs": [
    {
     "name": "stdout",
     "output_type": "stream",
     "text": [
      "DataFrame info:\n",
      "<class 'pandas.core.frame.DataFrame'>\n",
      "RangeIndex: 20000 entries, 0 to 19999\n",
      "Data columns (total 39 columns):\n",
      " #   Column                 Non-Null Count  Dtype  \n",
      "---  ------                 --------------  -----  \n",
      " 0   ID                     20000 non-null  int64  \n",
      " 1   cc_cons_apr            20000 non-null  float64\n",
      " 2   dc_cons_apr            20000 non-null  float64\n",
      " 3   cc_cons_may            19999 non-null  float64\n",
      " 4   dc_cons_may            20000 non-null  float64\n",
      " 5   cc_cons_jun            20000 non-null  float64\n",
      " 6   dc_cons_jun            19999 non-null  float64\n",
      " 7   cc_count_apr           19999 non-null  float64\n",
      " 8   cc_count_may           20000 non-null  int64  \n",
      " 9   cc_count_jun           20000 non-null  int64  \n",
      " 10  dc_count_apr           20000 non-null  int64  \n",
      " 11  dc_count_may           20000 non-null  int64  \n",
      " 12  dc_count_jun           20000 non-null  int64  \n",
      " 13  card_lim               20000 non-null  int64  \n",
      " 14  personal_loan_active   20000 non-null  int64  \n",
      " 15  vehicle_loan_active    20000 non-null  int64  \n",
      " 16  personal_loan_closed   19999 non-null  float64\n",
      " 17  vehicle_loan_closed    20000 non-null  int64  \n",
      " 18  investment_1           20000 non-null  float64\n",
      " 19  investment_2           20000 non-null  float64\n",
      " 20  investment_3           19998 non-null  float64\n",
      " 21  investment_4           20000 non-null  float64\n",
      " 22  debit_amount_apr       20000 non-null  float64\n",
      " 23  credit_amount_apr      20000 non-null  float64\n",
      " 24  debit_count_apr        19999 non-null  float64\n",
      " 25  credit_count_apr       20000 non-null  int64  \n",
      " 26  max_credit_amount_apr  20000 non-null  float64\n",
      " 27  debit_amount_may       20000 non-null  float64\n",
      " 28  credit_amount_may      20000 non-null  float64\n",
      " 29  credit_count_may       20000 non-null  int64  \n",
      " 30  debit_count_may        20000 non-null  int64  \n",
      " 31  max_credit_amount_may  20000 non-null  float64\n",
      " 32  debit_amount_jun       20000 non-null  float64\n",
      " 33  credit_amount_jun      20000 non-null  float64\n",
      " 34  credit_count_jun       20000 non-null  int64  \n",
      " 35  debit_count_jun        20000 non-null  int64  \n",
      " 36  max_credit_amount_jun  20000 non-null  float64\n",
      " 37  loan_enq               19998 non-null  object \n",
      " 38  emi_active             19999 non-null  float64\n",
      "dtypes: float64(23), int64(15), object(1)\n",
      "memory usage: 6.0+ MB\n",
      "None\n"
     ]
    }
   ],
   "source": [
    "# Get metadata using info() method\n",
    "print(\"DataFrame info:\")\n",
    "print(Customer_Behavior_Data.info())"
   ]
  }
 ],
 "metadata": {
  "kernelspec": {
   "display_name": "Python 3",
   "language": "python",
   "name": "python3"
  },
  "language_info": {
   "codemirror_mode": {
    "name": "ipython",
    "version": 3
   },
   "file_extension": ".py",
   "mimetype": "text/x-python",
   "name": "python",
   "nbconvert_exporter": "python",
   "pygments_lexer": "ipython3",
   "version": "3.10.8"
  },
  "orig_nbformat": 4
 },
 "nbformat": 4,
 "nbformat_minor": 2
}
