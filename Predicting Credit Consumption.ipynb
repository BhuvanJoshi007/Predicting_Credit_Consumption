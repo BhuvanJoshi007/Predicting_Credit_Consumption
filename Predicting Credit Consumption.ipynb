{
 "cells": [
  {
   "cell_type": "code",
   "execution_count": 1,
   "metadata": {},
   "outputs": [],
   "source": [
    "import pandas as pd\n",
    "import numpy as np\n",
    "%matplotlib inline\n",
    "import matplotlib.pyplot as plt\n",
    "import seaborn as sns"
   ]
  },
  {
   "cell_type": "code",
   "execution_count": 2,
   "metadata": {},
   "outputs": [],
   "source": [
    "import pip"
   ]
  },
  {
   "cell_type": "code",
   "execution_count": null,
   "metadata": {},
   "outputs": [],
   "source": [
    "Customer_Demo = pd.read_excel('CustomerDemographics.xlsx')\n",
    "Customer_Behavior_Data =  pd.read_excel('CustomerBehaviorData.xlsx')\n",
    "Credit_Consumption_Data = pd.read_excel('CreditConsumptionData.xlsx')"
   ]
  },
  {
   "cell_type": "code",
   "execution_count": null,
   "metadata": {},
   "outputs": [],
   "source": [
    "# Get metadata using info() method\n",
    "print(\"DataFrame info:\")\n",
    "print(Customer_Demo.info())"
   ]
  },
  {
   "cell_type": "code",
   "execution_count": null,
   "metadata": {},
   "outputs": [],
   "source": [
    "# Get summary statistics using describe() method\n",
    "print(\"DataFrame summary statistics:\")\n",
    "print(Customer_Demo.describe())"
   ]
  },
  {
   "cell_type": "code",
   "execution_count": null,
   "metadata": {},
   "outputs": [],
   "source": [
    "# Get metadata using info() method\n",
    "print(\"DataFrame info:\")\n",
    "print(Customer_Behavior_Data.info())"
   ]
  },
  {
   "cell_type": "code",
   "execution_count": null,
   "metadata": {},
   "outputs": [],
   "source": [
    "# Get summary statistics using describe() method\n",
    "print(\"DataFrame summary statistics:\")\n",
    "print(Customer_Behavior_Data.describe())"
   ]
  },
  {
   "cell_type": "code",
   "execution_count": null,
   "metadata": {},
   "outputs": [],
   "source": [
    "Credit_Consumption_Data"
   ]
  },
  {
   "cell_type": "code",
   "execution_count": null,
   "metadata": {},
   "outputs": [],
   "source": [
    "# Get metadata using info() method\n",
    "print(\"DataFrame info:\")\n",
    "print(Credit_Consumption_Data.info())"
   ]
  },
  {
   "cell_type": "code",
   "execution_count": null,
   "metadata": {},
   "outputs": [],
   "source": [
    "# Get summary statistics using describe() method\n",
    "print(\"DataFrame summary statistics:\")\n",
    "print(Credit_Consumption_Data.describe())"
   ]
  },
  {
   "cell_type": "code",
   "execution_count": null,
   "metadata": {},
   "outputs": [],
   "source": [
    "# Perform the merge\n",
    "merged_table = pd.merge(Customer_Demo, Customer_Behavior_Data,on='ID')\n",
    "merged_table = pd.merge(merged_table, Credit_Consumption_Data, on='ID')"
   ]
  },
  {
   "cell_type": "code",
   "execution_count": null,
   "metadata": {},
   "outputs": [],
   "source": [
    "merged_table"
   ]
  },
  {
   "cell_type": "code",
   "execution_count": null,
   "metadata": {},
   "outputs": [],
   "source": [
    "# Get metadata using info() method\n",
    "print(\"DataFrame info:\")\n",
    "merged_table.info()"
   ]
  },
  {
   "cell_type": "code",
   "execution_count": null,
   "metadata": {},
   "outputs": [],
   "source": [
    "# Get summary statistics using describe() method\n",
    "print(\"DataFrame summary statistics:\")\n",
    "merged_table.describe()"
   ]
  },
  {
   "cell_type": "code",
   "execution_count": null,
   "metadata": {},
   "outputs": [],
   "source": [
    "def continuous_var_summary( x ):\n",
    "    \n",
    "    # freq and missings\n",
    "    n_total = x.shape[0]\n",
    "    n_miss = x.isna().sum()\n",
    "    perc_miss = n_miss * 100 / n_total\n",
    "    \n",
    "    # outliers - iqr\n",
    "    q1 = x.quantile(0.25)\n",
    "    q3 = x.quantile(0.75)\n",
    "    iqr = q3 - q1\n",
    "    lc_iqr = q1 - 1.5 * iqr\n",
    "    uc_iqr = q3 + 1.5 * iqr\n",
    "    \n",
    "    \n",
    "    return pd.Series( [ x.dtype, x.nunique(), n_total, x.count(), n_miss, perc_miss,\n",
    "                       x.sum(), x.mean(), x.std(), x.var(), \n",
    "                       lc_iqr, uc_iqr, \n",
    "                       x.min(), x.quantile(0.01), x.quantile(0.05), x.quantile(0.10), \n",
    "                       x.quantile(0.25), x.quantile(0.5), x.quantile(0.75), \n",
    "                       x.quantile(0.90), x.quantile(0.95), x.quantile(0.99), x.max() ], \n",
    "                     \n",
    "                    index = ['dtype', 'cardinality', 'n_tot', 'n', 'nmiss', 'perc_miss',\n",
    "                             'sum', 'mean', 'std', 'var',\n",
    "                        'lc_iqr', 'uc_iqr',\n",
    "                        'min', 'p1', 'p5', 'p10', 'p25', 'p50', 'p75', 'p90', 'p95', 'p99', 'max']) "
   ]
  },
  {
   "cell_type": "code",
   "execution_count": null,
   "metadata": {},
   "outputs": [],
   "source": [
    "# An utility function to create dummy variable\n",
    "def create_dummies(df, colname):\n",
    "    col_dummies = pd.get_dummies(df[colname], \n",
    "                                 prefix = colname, \n",
    "                                 drop_first = True)\n",
    "    df = pd.concat([df, col_dummies], axis = 1)\n",
    "    df.drop(colname, axis = 1, inplace = True )\n",
    "    return df"
   ]
  },
  {
   "cell_type": "markdown",
   "metadata": {},
   "source": [
    "### EDA"
   ]
  },
  {
   "cell_type": "code",
   "execution_count": null,
   "metadata": {},
   "outputs": [],
   "source": [
    "#check for null value\n",
    "merged_table.isnull().any().sum()"
   ]
  },
  {
   "cell_type": "code",
   "execution_count": null,
   "metadata": {},
   "outputs": [],
   "source": [
    "mis_val_col =['account_type' , 'gender' , 'Income' , 'region_code', 'Avg_days_between_transaction', \n",
    "'cc_cons_may', 'dc_cons_jun', 'cc_count_apr', 'personal_loan_closed', 'investment_3',\n",
    "'debit_count_apr', 'loan_enq', 'emi_active']"
   ]
  },
  {
   "cell_type": "code",
   "execution_count": null,
   "metadata": {},
   "outputs": [],
   "source": [
    "merged_table[mis_val_col].isnull().any().sum()"
   ]
  },
  {
   "cell_type": "code",
   "execution_count": null,
   "metadata": {},
   "outputs": [],
   "source": [
    "# drop rows where the values are null\n",
    "# merged_table = merged_table.dropna(subset=mis_val_col)"
   ]
  },
  {
   "cell_type": "code",
   "execution_count": null,
   "metadata": {},
   "outputs": [],
   "source": [
    "#check for null value\n",
    "merged_table.isnull().any().sum()"
   ]
  },
  {
   "cell_type": "code",
   "execution_count": null,
   "metadata": {},
   "outputs": [],
   "source": [
    "merged_table.info()"
   ]
  },
  {
   "cell_type": "code",
   "execution_count": null,
   "metadata": {},
   "outputs": [],
   "source": [
    "# merged_table.to_excel('output.xlsx', index=False)"
   ]
  },
  {
   "cell_type": "code",
   "execution_count": null,
   "metadata": {},
   "outputs": [],
   "source": [
    "merged_table[mis_val_col]"
   ]
  },
  {
   "cell_type": "code",
   "execution_count": null,
   "metadata": {},
   "outputs": [],
   "source": [
    "miss_int_col=['region_code', 'Avg_days_between_transaction' ,'cc_cons_may', \n",
    "              'dc_cons_jun', 'cc_count_apr', 'personal_loan_closed', 'investment_3',\n",
    "              'debit_count_apr', 'emi_active' ]\n",
    "miss_obj_col=['account_type', 'gender', 'Income','loan_enq']"
   ]
  },
  {
   "cell_type": "code",
   "execution_count": null,
   "metadata": {},
   "outputs": [],
   "source": [
    "for i in miss_int_col:\n",
    "    merged_table[i] = np.where(pd.isnull(merged_table[i]), \n",
    "                               merged_table[i].mean(),\n",
    "                               merged_table[i])\n",
    "for j in miss_obj_col:\n",
    "    merged_table[j] = np.where(pd.isnull(merged_table[j]), \n",
    "                               merged_table[j].mode().values[0],\n",
    "                               merged_table[j])"
   ]
  },
  {
   "cell_type": "code",
   "execution_count": null,
   "metadata": {},
   "outputs": [],
   "source": [
    "merged_table.info()"
   ]
  },
  {
   "cell_type": "code",
   "execution_count": null,
   "metadata": {},
   "outputs": [],
   "source": [
    "num_col = merged_table.select_dtypes(include=['int','float']).columns"
   ]
  },
  {
   "cell_type": "markdown",
   "metadata": {},
   "source": [
    "### One hot encoding"
   ]
  },
  {
   "cell_type": "code",
   "execution_count": null,
   "id": "314a6f38",
   "metadata": {},
   "outputs": [],
   "source": [
    "obj_var = merged_table.select_dtypes(include=['object']).columns\n",
    "obj_var"
   ]
  },
  {
   "cell_type": "code",
   "execution_count": null,
   "id": "e579bab3",
   "metadata": {},
   "outputs": [],
   "source": [
    "merged_table['account_type'].value_counts()"
   ]
  },
  {
   "cell_type": "code",
   "execution_count": null,
   "id": "017d11da",
   "metadata": {},
   "outputs": [],
   "source": [
    "merged_table['gender'].value_counts()"
   ]
  },
  {
   "cell_type": "code",
   "execution_count": null,
   "id": "5da47050",
   "metadata": {},
   "outputs": [],
   "source": [
    "merged_table['Income'].value_counts()"
   ]
  },
  {
   "cell_type": "code",
   "execution_count": null,
   "id": "92d1f7dd",
   "metadata": {},
   "outputs": [],
   "source": [
    "merged_table['loan_enq'].value_counts()"
   ]
  },
  {
   "cell_type": "code",
   "execution_count": null,
   "id": "49fc526e",
   "metadata": {},
   "outputs": [],
   "source": [
    "# lets drop loan_enq as its cardinality is lowest\n",
    "# and lets drop ID as its cardinality is very very high\n",
    "merged_table.drop(columns=['ID','loan_enq'] , inplace=True)"
   ]
  },
  {
   "cell_type": "code",
   "execution_count": null,
   "id": "046f5083",
   "metadata": {},
   "outputs": [],
   "source": [
    "merged_table.shape"
   ]
  },
  {
   "cell_type": "code",
   "execution_count": null,
   "id": "d24942e1",
   "metadata": {},
   "outputs": [],
   "source": [
    "merged_table = create_dummies(merged_table,['account_type','gender','Income'])"
   ]
  },
  {
   "cell_type": "code",
   "execution_count": null,
   "id": "46883b8d",
   "metadata": {},
   "outputs": [],
   "source": [
    "merged_table.shape"
   ]
  },
  {
   "cell_type": "markdown",
   "id": "21602e3a",
   "metadata": {},
   "source": [
    "#### Outlier treatment"
   ]
  },
  {
   "cell_type": "code",
   "execution_count": null,
   "id": "9a37cc32",
   "metadata": {},
   "outputs": [],
   "source": [
    "# separate the numeric and object variables\n",
    "num_var = merged_table.select_dtypes(['float64', 'int64'])"
   ]
  },
  {
   "cell_type": "code",
   "execution_count": null,
   "id": "5a41e4be",
   "metadata": {},
   "outputs": [],
   "source": [
    "# get the data audit report for all the variables\n",
    "num_var.apply(continuous_var_summary)"
   ]
  },
  {
   "cell_type": "code",
   "execution_count": null,
   "id": "323f7a14",
   "metadata": {},
   "outputs": [],
   "source": [
    "num_var"
   ]
  },
  {
   "cell_type": "code",
   "execution_count": null,
   "id": "b7947fcd",
   "metadata": {
    "scrolled": true
   },
   "outputs": [],
   "source": [
    "# Determine the number of rows and columns for the subplot grid\n",
    "num_rows = 12\n",
    "num_cols = 4\n",
    "\n",
    "# Create the subplot grid\n",
    "fig, axes = plt.subplots(num_rows, num_cols, figsize=(20, 40))\n",
    "\n",
    "# Flatten the axes array for easier indexing\n",
    "axes = axes.flatten()\n",
    "\n",
    "# Iterate over each numeric column and create a box plot\n",
    "for i, column in enumerate(num_var.columns):\n",
    "    # Select the corresponding axis for the current box plot\n",
    "    ax = axes[i]\n",
    "    \n",
    "    # Create the box plot for the current column\n",
    "    ax.boxplot(num_var[column])\n",
    "    \n",
    "    # Set the title of the box plot to the column name\n",
    "    ax.set_title(column)\n",
    "    \n",
    "    # Remove x-axis ticks and labels for better visualization\n",
    "    ax.set_xticks([])\n",
    "    ax.set_xticklabels([])\n",
    "    \n",
    "    # Adjust the subplot spacing\n",
    "    fig.subplots_adjust(hspace=0.5)\n",
    "    \n",
    "# Remove any extra subplots if the number of columns is not divisible by the number of rows\n",
    "if len(num_var.columns) < num_rows * num_cols:\n",
    "    for j in range(len(num_var.columns), num_rows * num_cols):\n",
    "        fig.delaxes(axes[j])\n",
    "\n",
    "# Display the plot\n",
    "plt.show()\n"
   ]
  },
  {
   "cell_type": "code",
   "execution_count": null,
   "id": "0f623222",
   "metadata": {},
   "outputs": [],
   "source": [
    "# maximum age cannot be more than 100\n",
    "merged_table.age.max()"
   ]
  },
  {
   "cell_type": "code",
   "execution_count": null,
   "id": "29735522",
   "metadata": {},
   "outputs": [],
   "source": [
    "merged_table.age.quantile(0.99)"
   ]
  },
  {
   "cell_type": "code",
   "execution_count": null,
   "id": "4e4d036b",
   "metadata": {},
   "outputs": [],
   "source": [
    "# clealy there are many attributes which require outlier treatment\n",
    "\n",
    "outl_col= ['age', 'Emp_Tenure_Years', 'cc_cons_apr','dc_cons_apr', \n",
    "          'cc_cons_may','dc_cons_may','cc_cons_jun','dc_cons_jun','cc_count_apr', \n",
    "          'cc_count_may','cc_count_jun','dc_count_apr', 'dc_count_may',\n",
    "          'card_lim','investment_1', 'investment_2','investment_3','investment_4',\n",
    "          'debit_amount_apr','credit_amount_apr','debit_count_apr',\n",
    "          'credit_count_apr', 'max_credit_amount_apr','debit_amount_may',\n",
    "          'credit_amount_may','credit_count_may','debit_count_may',\n",
    "          'max_credit_amount_may', 'debit_amount_jun','credit_amount_jun',\n",
    "          'credit_count_jun','max_credit_amount_jun', 'emi_active']        "
   ]
  },
  {
   "cell_type": "code",
   "execution_count": null,
   "id": "f74994b1",
   "metadata": {},
   "outputs": [],
   "source": [
    "# This method is not working as the outliers are more than expected.\n",
    "\n",
    "#for i in outl_col:\n",
    "#    merged_table[i].clip(lower = merged_table[i].quantile(0.01),\n",
    "#                         upper = merged_table[i].quantile(0.99), inplace=True)"
   ]
  },
  {
   "cell_type": "code",
   "execution_count": null,
   "id": "cb379960",
   "metadata": {},
   "outputs": [],
   "source": [
    "# Set the multiplier to adjust the IQR threshold\n",
    "multiplier = 1.5\n",
    "\n",
    "# Iterate over each column in the DataFrame\n",
    "for col in outl_col:\n",
    "# Calculate the first quartile (Q1) and third quartile (Q3) of the column\n",
    "    Q1 = merged_table[col].quantile(0.25)\n",
    "    Q3 = merged_table[col].quantile(0.75)\n",
    "    \n",
    "# Calculate the IQR (Interquartile Range)\n",
    "    IQR = Q3 - Q1\n",
    "    \n",
    "# Define the lower and upper bounds for outliers\n",
    "    lower_bound = Q1 - multiplier * IQR\n",
    "    upper_bound = Q3 + multiplier * IQR\n",
    "    \n",
    "# Identify and treat outliers by capping them within the lower and upper bounds\n",
    "    merged_table[col] = merged_table[col].apply(lambda x: lower_bound if \n",
    "                                  x < lower_bound else (upper_bound if \n",
    "                                                        x > upper_bound else x))"
   ]
  },
  {
   "cell_type": "code",
   "execution_count": null,
   "id": "4fd402da",
   "metadata": {},
   "outputs": [],
   "source": [
    "# Create an 11x4 subplot grid\n",
    "fig, axes = plt.subplots(11, 4, figsize=(15, 30))\n",
    "\n",
    "# Flatten the axes array for easier indexing\n",
    "axes = axes.flatten()\n",
    "\n",
    "# Iterate over each numeric column and create a box plot\n",
    "for i, column in enumerate(outl_col):\n",
    "    # Select the corresponding axis for the current box plot\n",
    "    ax = axes[i]\n",
    "    \n",
    "    # Create the box plot for the current column\n",
    "    ax.boxplot(merged_table[column])\n",
    "    \n",
    "    # Set the title of the box plot to the column name\n",
    "    ax.set_title(column)\n",
    "    \n",
    "    # Remove x-axis ticks and labels for better visualization\n",
    "    ax.set_xticks([])\n",
    "    ax.set_xticklabels([])\n",
    "    \n",
    "    # Adjust the subplot spacing\n",
    "    fig.subplots_adjust(hspace=0.4)\n",
    "    \n",
    "# Remove any extra subplots if the number of columns is not divisible by 4\n",
    "if len(outl_col) < 44:\n",
    "    for j in range(len(outl_col), 44):\n",
    "        fig.delaxes(axes[j])\n",
    "\n",
    "# Display the plot\n",
    "plt.show()\n"
   ]
  },
  {
   "cell_type": "markdown",
   "id": "f717f0c2",
   "metadata": {},
   "source": [
    "#### Now lets do the feature selection using Ridge and Lasso regression"
   ]
  },
  {
   "cell_type": "code",
   "execution_count": null,
   "id": "26c7aa42",
   "metadata": {},
   "outputs": [],
   "source": [
    "merged_table.columns"
   ]
  },
  {
   "cell_type": "code",
   "execution_count": null,
   "id": "3564d008",
   "metadata": {},
   "outputs": [],
   "source": [
    "merged_table"
   ]
  },
  {
   "cell_type": "code",
   "execution_count": null,
   "id": "4f3c5b7f",
   "metadata": {},
   "outputs": [],
   "source": [
    "# load the ML libraries\n",
    "from sklearn.linear_model import LinearRegression\n",
    "from sklearn.linear_model import Ridge\n",
    "from sklearn.linear_model import Lasso\n",
    "from sklearn.metrics import r2_score"
   ]
  },
  {
   "cell_type": "code",
   "execution_count": null,
   "id": "f50acda3",
   "metadata": {},
   "outputs": [],
   "source": [
    "merged_table['cc_cons'].isnull()"
   ]
  },
  {
   "cell_type": "code",
   "execution_count": null,
   "id": "a93073ba",
   "metadata": {},
   "outputs": [],
   "source": [
    "Non_null_df = merged_table[~merged_table['cc_cons'].isnull()]\n",
    "validation_df= merged_table[merged_table['cc_cons'].isnull()]"
   ]
  },
  {
   "cell_type": "code",
   "execution_count": null,
   "id": "c605d17c",
   "metadata": {},
   "outputs": [],
   "source": [
    "y = Non_null_df.loc[:, Non_null_df.columns == 'cc_cons']\n",
    "X = Non_null_df.loc[:, Non_null_df.columns != 'cc_cons']"
   ]
  },
  {
   "cell_type": "code",
   "execution_count": null,
   "id": "ea556a1b",
   "metadata": {},
   "outputs": [],
   "source": [
    "#from sklearn.tree import DecisionTreeRegressor\n",
    "#from sklearn.model_selection import train_test_split\n",
    "#from sklearn.metrics import mean_squared_error\n",
    "#\n",
    "## Assuming 'X' is your feature matrix and 'y' is your target variable\n",
    "#\n",
    "## Split the data into training and testing sets\n",
    "#X_train, X_test, y_train, y_test = train_test_split(X, y, test_size=0.3, random_state=42)\n",
    "#\n",
    "## Create the Decision Tree Regressor model\n",
    "#tree_reg = DecisionTreeRegressor()\n",
    "#\n",
    "## Train the model\n",
    "#tree_reg.fit(X_train, y_train)\n",
    "#\n",
    "## Make predictions on the test set\n",
    "#y_pred = tree_reg.predict(X_test)\n",
    "#\n",
    "## Calculate the Mean Squared Error\n",
    "#mse = mean_squared_error(y_test, y_pred)\n",
    "#print(\"Mean Squared Error:\", mse)"
   ]
  },
  {
   "cell_type": "code",
   "execution_count": null,
   "id": "7045947d",
   "metadata": {},
   "outputs": [],
   "source": [
    "#### Clarly Decision tree regressor is not giving a good MSE \n",
    "# so let go with linear regression"
   ]
  },
  {
   "cell_type": "code",
   "execution_count": null,
   "id": "5e03ca71",
   "metadata": {},
   "outputs": [],
   "source": [
    "# Before linear regression we will do feature reduction using\n",
    "# using ridge and lasso regression"
   ]
  },
  {
   "cell_type": "code",
   "execution_count": null,
   "id": "723451ca",
   "metadata": {},
   "outputs": [],
   "source": [
    "from sklearn import preprocessing\n",
    "\n",
    "#scale all column of data, this will give a numpy array\n",
    "x_scaled = preprocessing.scale(X)\n",
    "x_scaled = pd.DataFrame(x_scaled, columns= X.columns)\n",
    "\n",
    "y_scaled = preprocessing.scale(y)\n",
    "y_scaled = pd.DataFrame(y_scaled, columns= y.columns)"
   ]
  },
  {
   "cell_type": "code",
   "execution_count": null,
   "id": "51784f4d",
   "metadata": {},
   "outputs": [],
   "source": [
    "from sklearn.model_selection import train_test_split\n",
    "\n",
    "X_train, X_test, y_train, y_test = train_test_split(X,\n",
    "                                                    y,\n",
    "                                                    test_size=0.3,\n",
    "                                                    random_state=1)"
   ]
  },
  {
   "cell_type": "code",
   "execution_count": null,
   "id": "c6ccbac9",
   "metadata": {},
   "outputs": [],
   "source": [
    "print('X_train:', X_train.shape)\n",
    "print('X_test:', X_test.shape)\n",
    "print('y_train:', y_train.shape)\n",
    "print('y_test:', y_test.shape)\n"
   ]
  },
  {
   "cell_type": "code",
   "execution_count": null,
   "id": "bbc74b6a",
   "metadata": {},
   "outputs": [],
   "source": [
    "# Build a regression model"
   ]
  },
  {
   "cell_type": "code",
   "execution_count": null,
   "id": "6cdb3650",
   "metadata": {},
   "outputs": [],
   "source": [
    "lin_reg = LinearRegression()\n",
    "lin_reg.fit(X_train, y_train)"
   ]
  },
  {
   "cell_type": "code",
   "execution_count": null,
   "id": "ed8d195a",
   "metadata": {},
   "outputs": [],
   "source": [
    "for idx, col_name in enumerate(X_train.columns):\n",
    "    print(\"The coeficient for {} is {}\".format(col_name, lin_reg.coef_[0][idx]))"
   ]
  },
  {
   "cell_type": "code",
   "execution_count": null,
   "id": "3505f16a",
   "metadata": {},
   "outputs": [],
   "source": [
    "intercept = lin_reg.intercept_[0]\n",
    "\n",
    "print('The intercept of our model using linear regression is {}'.format(intercept))"
   ]
  },
  {
   "cell_type": "markdown",
   "id": "bad27e7b",
   "metadata": {},
   "source": [
    "### Ridge Regression"
   ]
  },
  {
   "cell_type": "code",
   "execution_count": null,
   "id": "8f833095",
   "metadata": {},
   "outputs": [],
   "source": [
    "ridge = Ridge(alpha = .3) \n",
    "#coefficients are prevented to be too big by this alpha value\n",
    "ridge.fit(X_train, y_train)"
   ]
  },
  {
   "cell_type": "code",
   "execution_count": null,
   "id": "7d6d2648",
   "metadata": {},
   "outputs": [],
   "source": [
    "for i,col in enumerate(X_train.columns):\n",
    "    print(\"Ridge model coefficient for {} is :{}\".format(col, ridge.coef_[0][i]))"
   ]
  },
  {
   "cell_type": "code",
   "execution_count": null,
   "id": "6dd4ffc2",
   "metadata": {},
   "outputs": [],
   "source": [
    "r_intercept = ridge.intercept_[0]\n",
    "print('The intercept of our model using ridge regression is {}'.format(r_intercept))"
   ]
  },
  {
   "cell_type": "raw",
   "id": "4e507483",
   "metadata": {},
   "source": [
    "If the intercept term in a ridge regression model is negative, it simply means that the model predicts a negative value for the target variable when all the features (independent variables) are zero. The intercept in a linear regression model represents the estimated value of the dependent variable when all the independent variables are zero.\n",
    "\n",
    "In the context of ridge regression, the negative intercept does not carry a specific meaning on its own. It is primarily an artifact of the model fitting process and the regularization technique. Ridge regression applies a penalty term to the coefficients of the features, which can affect the intercept as well."
   ]
  },
  {
   "cell_type": "markdown",
   "id": "841a6220",
   "metadata": {},
   "source": [
    "### Lasso Regression"
   ]
  },
  {
   "cell_type": "code",
   "execution_count": null,
   "id": "56d79066",
   "metadata": {},
   "outputs": [],
   "source": [
    "lasso = Lasso(alpha = .1) \n",
    "#coefficients are prevented to be too big by this alpha value\n",
    "lasso.fit(X_train, y_train)"
   ]
  },
  {
   "cell_type": "code",
   "execution_count": null,
   "id": "f0e4467e",
   "metadata": {},
   "outputs": [],
   "source": [
    "for i,col in enumerate(X_train.columns):\n",
    "    print(\"Lasso model coefficient for {} is :{}\".format(col, lasso.coef_[i]))"
   ]
  },
  {
   "cell_type": "code",
   "execution_count": null,
   "id": "bbc74b6a",
   "metadata": {},
   "outputs": [],
   "source": [
    "# Build a regression model"
   ]
  },
  {
   "cell_type": "code",
   "execution_count": null,
   "id": "6cdb3650",
   "metadata": {},
   "outputs": [],
   "source": [
    "lin_reg = LinearRegression()\n",
    "lin_reg.fit(X_train, y_train)"
   ]
  },
  {
   "cell_type": "code",
   "execution_count": null,
   "id": "ed8d195a",
   "metadata": {},
   "outputs": [],
   "source": [
    "for idx, col_name in enumerate(X_train.columns):\n",
    "    print(\"The coeficient for {} is {}\".format(col_name, lin_reg.coef_[0][idx]))"
   ]
  },
  {
   "cell_type": "code",
   "execution_count": null,
   "id": "3505f16a",
   "metadata": {},
   "outputs": [],
   "source": [
    "intercept = lin_reg.intercept_[0]\n",
    "\n",
    "print('The intercept of our model using linear regression is {}'.format(intercept))"
   ]
  },
  {
   "cell_type": "markdown",
   "id": "bad27e7b",
   "metadata": {},
   "source": [
    "### Ridge Regression"
   ]
  },
  {
   "cell_type": "code",
   "execution_count": null,
   "id": "8f833095",
   "metadata": {},
   "outputs": [],
   "source": [
    "ridge = Ridge(alpha = .3) \n",
    "#coefficients are prevented to be too big by this alpha value\n",
    "ridge.fit(X_train, y_train)"
   ]
  },
  {
   "cell_type": "code",
   "execution_count": null,
   "id": "7d6d2648",
   "metadata": {},
   "outputs": [],
   "source": [
    "for i,col in enumerate(X_train.columns):\n",
    "    print(\"Ridge model coefficient for {} is :{}\".format(col, ridge.coef_[0][i]))"
   ]
  },
  {
   "cell_type": "code",
   "execution_count": null,
   "id": "6dd4ffc2",
   "metadata": {},
   "outputs": [],
   "source": [
    "r_intercept = ridge.intercept_[0]\n",
    "print('The intercept of our model using ridge regression is {}'.format(r_intercept))"
   ]
  },
  {
   "cell_type": "raw",
   "id": "4e507483",
   "metadata": {},
   "source": [
    "If the intercept term in a ridge regression model is negative, it simply means that the model predicts a negative value for the target variable when all the features (independent variables) are zero. The intercept in a linear regression model represents the estimated value of the dependent variable when all the independent variables are zero.\n",
    "\n",
    "In the context of ridge regression, the negative intercept does not carry a specific meaning on its own. It is primarily an artifact of the model fitting process and the regularization technique. Ridge regression applies a penalty term to the coefficients of the features, which can affect the intercept as well."
   ]
  },
  {
   "cell_type": "markdown",
   "id": "841a6220",
   "metadata": {},
   "source": [
    "### Lasso Regression"
   ]
  },
  {
   "cell_type": "code",
   "execution_count": null,
   "id": "56d79066",
   "metadata": {},
   "outputs": [],
   "source": [
    "lasso = Lasso(alpha = .1) \n",
    "#coefficients are prevented to be too big by this alpha value\n",
    "lasso.fit(X_train, y_train)"
   ]
  },
  {
   "cell_type": "code",
   "execution_count": null,
   "id": "f0e4467e",
   "metadata": {},
   "outputs": [],
   "source": [
    "for i,col in enumerate(X_train.columns):\n",
    "    print(\"Lasso model coefficient for {} is :{}\".format(col, lasso.coef_[i]))"
   ]
  },
  {
   "cell_type": "code",
   "execution_count": null,
   "metadata": {},
   "outputs": [],
   "source": []
  },
  {
   "cell_type": "code",
   "execution_count": null,
   "metadata": {},
   "outputs": [],
   "source": []
  },
  {
   "cell_type": "code",
   "execution_count": null,
   "metadata": {},
   "outputs": [],
   "source": []
  }
 ],
 "metadata": {
  "kernelspec": {
   "display_name": "Python 3",
   "language": "python",
   "name": "python3"
  },
  "language_info": {
   "codemirror_mode": {
    "name": "ipython",
    "version": 3
   },
   "file_extension": ".py",
   "mimetype": "text/x-python",
   "name": "python",
   "nbconvert_exporter": "python",
   "pygments_lexer": "ipython3",
   "version": "3.8.8"
  }
 },
 "nbformat": 4,
 "nbformat_minor": 2
}
